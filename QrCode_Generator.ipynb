{
  "nbformat": 4,
  "nbformat_minor": 0,
  "metadata": {
    "colab": {
      "name": "QrCode Generator",
      "provenance": [],
      "collapsed_sections": [],
      "include_colab_link": true
    },
    "kernelspec": {
      "name": "python3",
      "display_name": "Python 3"
    }
  },
  "cells": [
    {
      "cell_type": "markdown",
      "metadata": {
        "id": "view-in-github",
        "colab_type": "text"
      },
      "source": [
        "<a href=\"https://colab.research.google.com/github/iuricostalima/iuricostalima/blob/main/QrCode_Generator.ipynb\" target=\"_parent\"><img src=\"https://colab.research.google.com/assets/colab-badge.svg\" alt=\"Open In Colab\"/></a>"
      ]
    },
    {
      "cell_type": "code",
      "metadata": {
        "id": "afnZz5jLrNKq",
        "colab": {
          "base_uri": "https://localhost:8080/"
        },
        "outputId": "97062dc2-e42e-43db-bbec-966c8edb90ef"
      },
      "source": [
        "!pip install Qrcode\n",
        " \n",
        "import matplotlib.pyplot as plt\n",
        " \n",
        "from PIL import Image, ImageDraw\n",
        "\n",
        "import qrcode\n",
        "from google.colab import files"
      ],
      "execution_count": null,
      "outputs": [
        {
          "output_type": "stream",
          "text": [
            "Collecting Qrcode\n",
            "  Downloading https://files.pythonhosted.org/packages/42/87/4a3a77e59ab7493d64da1f69bf1c2e899a4cf81e51b2baa855e8cc8115be/qrcode-6.1-py2.py3-none-any.whl\n",
            "Requirement already satisfied: six in /usr/local/lib/python3.6/dist-packages (from Qrcode) (1.15.0)\n",
            "Installing collected packages: Qrcode\n",
            "Successfully installed Qrcode-6.1\n"
          ],
          "name": "stdout"
        }
      ]
    },
    {
      "cell_type": "code",
      "metadata": {
        "id": "qk39k7_Mrc9K",
        "colab": {
          "base_uri": "https://localhost:8080/"
        },
        "outputId": "eed36129-2e02-4d19-dc96-49a86d11fab7"
      },
      "source": [
        "# Types of Qrcode:\n",
        " \n",
        "# 1 - URL\n",
        "# 2 - E-mail address\n",
        "# 3 - Telephone numbers\n",
        "# 4 - vCard\n",
        "# 5 - Calendar Events 5 (Not Working)\n",
        "# 6 - Wi-Fi Network config (Android, iOS 11+)\n",
        "# 7 - Whatsapp\n",
        "# 8 - Anything\n",
        " \n",
        "x = 0\n",
        "while x < 1:\n",
        "  try:\n",
        "    typeqrcd = int(input('Input numbers 1 to 7:'))\n",
        "    if 0 < int(typeqrcd) < 9:\n",
        "      x += 1\n",
        "  except ValueError:\n",
        "    print(\"Oops!  That was no valid number.  Try again...\")\n",
        "  \n",
        " \n",
        "if typeqrcd == 1:\n",
        "  qrurl = input(\"type here url\")\n",
        "  qrname = 'url'\n",
        "  phrase = ('http://' +str(qrurl))\n",
        "  # https://google.com/m \n",
        "  NamePhrase1 = phrase\n",
        " \n",
        "if typeqrcd == 2:\n",
        "  qremail = input('mailto:'+'type here email:')\n",
        "  qrname = 'email'\n",
        "  phrase = qremail  \n",
        "  # Address\n",
        "  # mailto:someone@yoursite.com \n",
        "  NamePhrase1 = phrase\n",
        " \n",
        "if typeqrcd == 3:\n",
        "  qrtelephone = input('tel:'+'type telephone number') \n",
        "  qrname = 'telephone'\n",
        "  phrase = qrtelephone\n",
        "  # NYC Directory assistance\n",
        "  # tel:+12125551212\n",
        "  NamePhrase1=phrase\n",
        " \n",
        "if typeqrcd == 4: \n",
        "  qrVCARDFN = input('first name')\n",
        "  qrVCARDLN = input('last name')\n",
        "  qrVCARDTL = input('title') \n",
        "  qrVCARDEML = input('email')\n",
        "  qrVCARDTEL = input('telephone')\n",
        "  qrVCARDHP = input('homepage')\n",
        "  \n",
        "  qrVcard = str('BEGIN:VCARD'+ '\\n'+\n",
        "  'VERSION:3.0'+'\\n'+\n",
        "  'N:'+(str(qrVCARDLN))+';'+(str(qrVCARDFN))+';;;'+'\\n'\n",
        "  'FN:'+(str((qrVCARDFN)+' '+(str(qrVCARDLN))))+'\\n'\n",
        "  'TITLE:'+(str(qrVCARDTL))+'\\n'\n",
        "  'EMAIL:'+(str(qrVCARDEML))+'\\n'\n",
        "  'TEL:'+(str(qrVCARDTEL))+'\\n'\n",
        "  'URL;TYPE=Homepage:'+(str(qrVCARDHP))+'\\n'\n",
        "  'END:VCARD'\n",
        "  )\n",
        "  qrname = 'Vcard'\n",
        "  phrase = qrVcard\n",
        "  \n",
        "  NamePhrase1= qrVCARDFN\n",
        "  # BEGIN:VCARD\n",
        "  # VERSION:3.0\n",
        "  # N:Owen;Sean;;;\n",
        "  # FN:Sean Owen\n",
        "  # TITLE:Software Engineer\n",
        "  # EMAIL;TYPE=INTERNET;TYPE=WORK;TYPE=PREF:srowen@google.com\n",
        "  # URL;TYPE=Homepage:https://example.com\n",
        "  # END:VCARD\n",
        " \n",
        "if typeqrcd == 5: \n",
        "  pass\n",
        "  # qrSummary = input('Summary')\n",
        "  # qrCalYear = input('Year(YYYY)')\n",
        "  # qrCalMonth = input('Month(MM)') \n",
        "  # qrCalDay = input('Day(DD)')\n",
        "  # qrCalTimeHour = input('Hour(TT')\n",
        "  # qrCalTimeMin = input('Minute(tt)')\n",
        " \n",
        "  # qrCalYearEnd = input('Year End(YYYY)')\n",
        "  # qrCalMonthEnd = input('Month End(MM)') \n",
        "  # qrCalDayEnd = input('Day End(DD)')\n",
        "  # qrCalTimeHourEnd = input('Hour End(TT)')\n",
        "  # qrCalTimeMinEnd = input('Minute End(tt)')\n",
        "  # qrVcard = str('BEGIN:VEVENT'+ '\\n'+\n",
        "  # 'SUMMARY:'+(str(qrSummary))+'\\n'+\n",
        "  # 'DTSTART:'+(str((qrCalYear)+(str(qrCalMonth)+(str(qrCalDay)))))+'T'+(str(qrCalTimeHour)+(str(qrCalTimeMin)+'00z'+'\\n'+\n",
        "  # 'DTEND:'+(str((qrCalYearEnd)+(str(qrCalMonthEnd)+(str(qrCalDayEnd)))))+'T'+(str(qrCalTimeHourEnd)+(str(qrCalTimeMinEnd)+'00z'+'\\n'+\n",
        "  # 'END:VEVENT'\n",
        "  # )\n",
        "  # qrname = 'CalendarEvent'\n",
        "  # phrase = qrCal\n",
        " \n",
        "if typeqrcd == 6:\n",
        "  qrWifiNetwork = input('type Network:')\n",
        "  qrWifiPW = input('type Password:')\n",
        "  qrWifi = str('WIFI:T:WPA;S:'+ str(qrWifiNetwork)+';P:'+ str(qrWifiPW)+';;')\n",
        "  qrname = 'Wifi'\n",
        "  phrase = qrWifi\n",
        " \n",
        "  NamePhrase1 = qrWifiNetwork\n",
        " \n",
        "if typeqrcd == 7:\n",
        "  qrurl = input(\"type whatsapp number here\")\n",
        "  qrname = 'whatsapp'\n",
        "  phrase = ('https://api.whatsapp.com/send?phone=+55' +str(qrurl))\n",
        "  # https://google.com/m \n",
        "  NamePhrase1 = phrase\n",
        " \n",
        " \n",
        "if typeqrcd == 8:\n",
        "  qrurl = input(\"type/paste txt\")\n",
        "  qrname = 'text'\n",
        "  phrase = (str(qrurl))\n",
        "  # https://google.com/m \n",
        "  NamePhrase1 = phrase\n",
        " \n",
        "  #WIFI:T:WPA;S:mynetwork;P:mypass;;"
      ],
      "execution_count": null,
      "outputs": [
        {
          "output_type": "stream",
          "text": [
            "Input numbers 1 to 7:6\n",
            "type Network:CASACASTANHO_5G\n",
            "type Password:VAIPASSAR\n"
          ],
          "name": "stdout"
        }
      ]
    },
    {
      "cell_type": "code",
      "metadata": {
        "id": "MOoGCamrzMwI",
        "colab": {
          "base_uri": "https://localhost:8080/",
          "height": 338
        },
        "outputId": "839af535-dbbe-4163-85db-64d1013d3509"
      },
      "source": [
        "img = qrcode.make(phrase)\n",
        "# img.show(title=\"NETGEAR-Guest\")\n",
        "# img_draw.save(str(qrname)+'.png')\n",
        "# files.download(str(qrname)+'.png')\n",
        "print(img.format, img.size, img.mode)\n",
        "img"
      ],
      "execution_count": null,
      "outputs": [
        {
          "output_type": "stream",
          "text": [
            "None (370, 370) 1\n"
          ],
          "name": "stdout"
        },
        {
          "output_type": "execute_result",
          "data": {
            "image/png": "[encoded data removed]",
            "text/plain": [
              "<qrcode.image.pil.PilImage at 0x7f3732fbda20>"
            ]
          },
          "metadata": {
            "tags": []
          },
          "execution_count": 4
        }
      ]
    }
  ]
}